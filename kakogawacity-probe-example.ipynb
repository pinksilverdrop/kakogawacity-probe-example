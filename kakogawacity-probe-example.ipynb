{
 "cells": [
  {
   "cell_type": "code",
   "execution_count": 1,
   "id": "8226fd43-1ba4-4b94-9e8a-a6d6eedc98a6",
   "metadata": {
    "tags": []
   },
   "outputs": [],
   "source": [
    "%load_ext autoreload\n",
    "%autoreload 2\n",
    "\n",
    "import json\n",
    "import os\n",
    "import gc\n",
    "import warnings\n",
    "import zipfile\n",
    "from datetime import date, datetime, timedelta\n",
    "from pathlib import Path\n",
    "\n",
    "os.environ[\"USE_PYGEOS\"] = \"0\"\n",
    "\n",
    "import duckdb\n",
    "import geopandas as gpd\n",
    "import leafmap\n",
    "import matplotlib.pyplot as plt\n",
    "import movingpandas as mpd\n",
    "import numpy as np\n",
    "import pandas as pd\n",
    "import seaborn as sns\n",
    "from keplergl import KeplerGl\n",
    "from pptx import Presentation\n",
    "from pptx.dml.color import RGBColor\n",
    "from pptx.util import Cm, Pt\n",
    "from tqdm import tqdm\n",
    "\n",
    "warnings.filterwarnings(\"ignore\")"
   ]
  },
  {
   "cell_type": "markdown",
   "id": "1a028060-fe02-49d3-82f7-6bd6ff9c409d",
   "metadata": {},
   "source": [
    "# 加古川市_公用車走行データ（走行履歴）\n",
    "- Data: [G空間情報センター 加古川市_公用車走行データ](https://www.geospatial.jp/ckan/dataset/kakogawacity-car-data)"
   ]
  },
  {
   "cell_type": "markdown",
   "id": "88f94214-269b-4e54-963b-066f309a964b",
   "metadata": {},
   "source": [
    "> ◆「加古川市公用車走行データ（走行履歴）」データ仕様   \n",
    "> 対象期間：2016年1月～2017年12月 車両台数：計172台（当初）   \n",
    "> 属性情報：車両ID/時刻/緯度/経度 データ：1ファイルで1ID毎1年分としています。   \n",
    "> その他：10分間まった同じ場所にいた場合や、エンジン停止などでデータ未取得の時間が10分以上となった場合を滞在と定義し、滞在と滞在を結ぶプローブ（時系列データ）において、起終点から一定の距離を離れる点までを匿名加工処理として削除しています。"
   ]
  },
  {
   "cell_type": "markdown",
   "id": "47d70c19-8bc8-4a1f-9115-817f2ba7c7df",
   "metadata": {},
   "source": [
    "# CSVファイルの読み込み+統合\n",
    "- Data：[加古川市_公用車走行データ（走行履歴）_2017](https://www.geospatial.jp/ckan/dataset/kakogawacity-car-data/resource/6686c2da-b47c-4cfc-86e1-b4026b41079c)\n",
    "- 同一車両で timestamp の重複があるので、データの重複除去が必要\n",
    "- 座標参照系が EPSG:4301（Tokyo） なので EPSG:4326（WGS84）に変換"
   ]
  },
  {
   "cell_type": "markdown",
   "id": "76b8311e-e040-486a-aca8-5dd64daede2f",
   "metadata": {},
   "source": [
    "- 車両別のCSVファイルのままだと扱いづらいので、先に一つのファイルに統合する\n",
    "    - 普段の業務で扱うデータはデータ量が大きいので、先に必要な日付や道路区間のデータを抽出してから処理\n",
    "- 統合したデータは GeoParquet と CSVファイルで出力"
   ]
  },
  {
   "cell_type": "code",
   "execution_count": 2,
   "id": "722e62e2-4c0d-437f-89be-80aa7e3bec55",
   "metadata": {
    "tags": []
   },
   "outputs": [
    {
     "name": "stdout",
     "output_type": "stream",
     "text": [
      "Before drop duplicates 27094285\n",
      "After drop duplicates 27007892\n"
     ]
    },
    {
     "data": {
      "text/html": [
       "<div>\n",
       "<style scoped>\n",
       "    .dataframe tbody tr th:only-of-type {\n",
       "        vertical-align: middle;\n",
       "    }\n",
       "\n",
       "    .dataframe tbody tr th {\n",
       "        vertical-align: top;\n",
       "    }\n",
       "\n",
       "    .dataframe thead th {\n",
       "        text-align: right;\n",
       "    }\n",
       "</style>\n",
       "<table border=\"1\" class=\"dataframe\">\n",
       "  <thead>\n",
       "    <tr style=\"text-align: right;\">\n",
       "      <th></th>\n",
       "      <th>vehicle_id</th>\n",
       "      <th>timestamp</th>\n",
       "      <th>geometry</th>\n",
       "    </tr>\n",
       "  </thead>\n",
       "  <tbody>\n",
       "    <tr>\n",
       "      <th>0</th>\n",
       "      <td>20150400001</td>\n",
       "      <td>2016-12-27 08:55:13</td>\n",
       "      <td>POINT (134.82190 34.82527)</td>\n",
       "    </tr>\n",
       "    <tr>\n",
       "      <th>1</th>\n",
       "      <td>20150400001</td>\n",
       "      <td>2016-12-27 08:55:14</td>\n",
       "      <td>POINT (134.82196 34.82536)</td>\n",
       "    </tr>\n",
       "  </tbody>\n",
       "</table>\n",
       "</div>"
      ],
      "text/plain": [
       "    vehicle_id           timestamp                    geometry\n",
       "0  20150400001 2016-12-27 08:55:13  POINT (134.82190 34.82527)\n",
       "1  20150400001 2016-12-27 08:55:14  POINT (134.82196 34.82536)"
      ]
     },
     "execution_count": 2,
     "metadata": {},
     "output_type": "execute_result"
    }
   ],
   "source": [
    "# zipファイルを解凍せずに内部のCSVファイルにアクセス\n",
    "zip_path = r\".\\data\\raw\\kakogawacity\\2017.zip\"\n",
    "\n",
    "dfs = []\n",
    "\n",
    "with zipfile.ZipFile(zip_path) as zf:\n",
    "    csv_path_list = [f for f in zf.namelist() if f.endswith(\".csv\")]\n",
    "\n",
    "    for csv_path in csv_path_list:\n",
    "        with zf.open(csv_path) as f:\n",
    "            df = pd.read_csv(\n",
    "                f,\n",
    "                encoding=\"utf-8\",\n",
    "                names=[\"vehicle_id\", \"timestamp\", \"latitude\", \"longitude\"],\n",
    "                dtype={\"vehicle_id\": str},\n",
    "                parse_dates=[1],\n",
    "            )\n",
    "        dfs.append(df)\n",
    "\n",
    "df = pd.concat(dfs, ignore_index=True)\n",
    "del dfs\n",
    "gc.collect()\n",
    "\n",
    "# 同一車両でtimestampの重複があるので、最初のレコード以外は除去\n",
    "df = df.sort_values([\"vehicle_id\", \"timestamp\"], ignore_index=True)\n",
    "\n",
    "print(\"Before drop duplicates\", len(df))\n",
    "df = df.drop_duplicates([\"vehicle_id\", \"timestamp\"], keep=\"first\", ignore_index=True)\n",
    "print(\"After drop duplicates\", len(df))\n",
    "\n",
    "# GeoDataFrameに変換してTOKYO Datum -> WGS84に変換\n",
    "df = gpd.GeoDataFrame(\n",
    "    df, crs=4301, geometry=gpd.points_from_xy(df[\"longitude\"], df[\"latitude\"])\n",
    ")\n",
    "\n",
    "df = df.to_crs(4326)\n",
    "df = df.drop(columns=[\"latitude\", \"longitude\"])\n",
    "df.head(2)"
   ]
  },
  {
   "cell_type": "markdown",
   "id": "45a98466-db70-4e0c-874a-3bc442187aca",
   "metadata": {},
   "source": [
    "- エクスポート\n",
    "    - (データ量が多いので、GitHub の dataフォルダには1日分のデータを抽出した後のファイルを保存）"
   ]
  },
  {
   "cell_type": "code",
   "execution_count": null,
   "id": "be40dc91-ae10-4be6-8b9d-ce369376c7ad",
   "metadata": {},
   "outputs": [],
   "source": [
    "%%time\n",
    "# CSV\n",
    "df.to_csv(\n",
    "    r\".\\data\\kakogawacity_probe_2017.csv\",\n",
    "    encoding=\"utf-8\",\n",
    "    index=False\n",
    ")"
   ]
  },
  {
   "cell_type": "code",
   "execution_count": 3,
   "id": "3a0c043a-3229-4294-97a5-220aefa8db2a",
   "metadata": {
    "tags": []
   },
   "outputs": [
    {
     "name": "stdout",
     "output_type": "stream",
     "text": [
      "CPU times: total: 32.4 s\n",
      "Wall time: 45.2 s\n"
     ]
    }
   ],
   "source": [
    "%%time\n",
    "# GeoParquet\n",
    "df.to_parquet(\n",
    "    r\".\\data\\kakogawacity_probe_2017.parquet\",\n",
    "    index=False,\n",
    "    compression=\"zstd\"\n",
    ")"
   ]
  },
  {
   "cell_type": "markdown",
   "id": "8cb70ac5-dfe1-4c9e-9120-373d688ab484",
   "metadata": {},
   "source": [
    "# データ抽出\n",
    "- 走行ルートの可視化・アニメーション作成は、サンプルとして1日分のデータを使用する"
   ]
  },
  {
   "cell_type": "markdown",
   "id": "340c0b9e-a58a-47e0-a2fb-338ad5ad733c",
   "metadata": {},
   "source": [
    "1. SQLによる抽出・・・[DuckDB](https://duckdb.org/) を使用（高速）\n",
    "    - CSVファイルから抽出する（Parquet の読み込みはできるが GeoParquet はうまく読み込めなかった）\n",
    "    - CSVを読み込む場合、車両IDは数値と文字列が混在しているため all_varchar=1 のオプションが必要"
   ]
  },
  {
   "cell_type": "code",
   "execution_count": 4,
   "id": "8beb872c-f2b7-401f-a6d3-653ed67a796e",
   "metadata": {},
   "outputs": [
    {
     "data": {
      "application/vnd.jupyter.widget-view+json": {
       "model_id": "3f9ef873560a4f3098f0f078fbada3c7",
       "version_major": 2,
       "version_minor": 0
      },
      "text/plain": [
       "FloatProgress(value=0.0, layout=Layout(width='auto'), style=ProgressStyle(bar_color='black'))"
      ]
     },
     "metadata": {},
     "output_type": "display_data"
    },
    {
     "name": "stdout",
     "output_type": "stream",
     "text": [
      "98460\n",
      "CPU times: total: 8.56 s\n",
      "Wall time: 10.9 s\n"
     ]
    },
    {
     "data": {
      "text/html": [
       "<div>\n",
       "<style scoped>\n",
       "    .dataframe tbody tr th:only-of-type {\n",
       "        vertical-align: middle;\n",
       "    }\n",
       "\n",
       "    .dataframe tbody tr th {\n",
       "        vertical-align: top;\n",
       "    }\n",
       "\n",
       "    .dataframe thead th {\n",
       "        text-align: right;\n",
       "    }\n",
       "</style>\n",
       "<table border=\"1\" class=\"dataframe\">\n",
       "  <thead>\n",
       "    <tr style=\"text-align: right;\">\n",
       "      <th></th>\n",
       "      <th>vehicle_id</th>\n",
       "      <th>timestamp</th>\n",
       "      <th>geometry</th>\n",
       "    </tr>\n",
       "  </thead>\n",
       "  <tbody>\n",
       "    <tr>\n",
       "      <th>0</th>\n",
       "      <td>20150400001</td>\n",
       "      <td>2017-02-13 09:54:44</td>\n",
       "      <td>POINT (134.81899 34.81670)</td>\n",
       "    </tr>\n",
       "    <tr>\n",
       "      <th>1</th>\n",
       "      <td>20150400001</td>\n",
       "      <td>2017-02-13 09:54:45</td>\n",
       "      <td>POINT (134.81896 34.81663)</td>\n",
       "    </tr>\n",
       "  </tbody>\n",
       "</table>\n",
       "</div>"
      ],
      "text/plain": [
       "    vehicle_id           timestamp                    geometry\n",
       "0  20150400001 2017-02-13 09:54:44  POINT (134.81899 34.81670)\n",
       "1  20150400001 2017-02-13 09:54:45  POINT (134.81896 34.81663)"
      ]
     },
     "execution_count": 4,
     "metadata": {},
     "output_type": "execute_result"
    }
   ],
   "source": [
    "%%time\n",
    "con = duckdb.connect(r\":memory:\")\n",
    "\n",
    "sql = \"\"\"\n",
    "SELECT\n",
    "    vehicle_id\n",
    "    ,strptime(timestamp, '%Y-%m-%d %H:%M:%S') AS timestamp\n",
    "    ,geometry\n",
    "FROM\n",
    "    read_csv_auto('data\\kakogawacity_probe_2017.csv', all_varchar=1)\n",
    "WHERE\n",
    "    substring(timestamp, 1, 10) = '2017-02-13'\n",
    ";\n",
    "\"\"\"\n",
    "df = duckdb.query(sql).to_df()\n",
    "df = gpd.GeoDataFrame(df, crs=4326, geometry=gpd.GeoSeries.from_wkt(df[\"geometry\"]))\n",
    "\n",
    "print(len(df))\n",
    "df.head(2)"
   ]
  },
  {
   "cell_type": "markdown",
   "id": "8b6b7af2-e4b2-4b03-8a2c-2ba8755fe49a",
   "metadata": {},
   "source": [
    "2. GeoPandasによるデータ抽出\n",
    "    - GeoParquet を読み込んで抽出"
   ]
  },
  {
   "cell_type": "code",
   "execution_count": 5,
   "id": "4118d79e-4a08-4a52-91d1-2908912b792e",
   "metadata": {},
   "outputs": [
    {
     "name": "stdout",
     "output_type": "stream",
     "text": [
      "98460\n",
      "CPU times: total: 34.8 s\n",
      "Wall time: 46.5 s\n"
     ]
    },
    {
     "data": {
      "text/html": [
       "<div>\n",
       "<style scoped>\n",
       "    .dataframe tbody tr th:only-of-type {\n",
       "        vertical-align: middle;\n",
       "    }\n",
       "\n",
       "    .dataframe tbody tr th {\n",
       "        vertical-align: top;\n",
       "    }\n",
       "\n",
       "    .dataframe thead th {\n",
       "        text-align: right;\n",
       "    }\n",
       "</style>\n",
       "<table border=\"1\" class=\"dataframe\">\n",
       "  <thead>\n",
       "    <tr style=\"text-align: right;\">\n",
       "      <th></th>\n",
       "      <th>vehicle_id</th>\n",
       "      <th>timestamp</th>\n",
       "      <th>geometry</th>\n",
       "    </tr>\n",
       "  </thead>\n",
       "  <tbody>\n",
       "    <tr>\n",
       "      <th>28139</th>\n",
       "      <td>20150400001</td>\n",
       "      <td>2017-02-13 09:54:44</td>\n",
       "      <td>POINT (134.81899 34.81670)</td>\n",
       "    </tr>\n",
       "    <tr>\n",
       "      <th>28140</th>\n",
       "      <td>20150400001</td>\n",
       "      <td>2017-02-13 09:54:45</td>\n",
       "      <td>POINT (134.81896 34.81663)</td>\n",
       "    </tr>\n",
       "  </tbody>\n",
       "</table>\n",
       "</div>"
      ],
      "text/plain": [
       "        vehicle_id           timestamp                    geometry\n",
       "28139  20150400001 2017-02-13 09:54:44  POINT (134.81899 34.81670)\n",
       "28140  20150400001 2017-02-13 09:54:45  POINT (134.81896 34.81663)"
      ]
     },
     "execution_count": 5,
     "metadata": {},
     "output_type": "execute_result"
    }
   ],
   "source": [
    "%%time\n",
    "target_date = date(2017, 2, 13)\n",
    "\n",
    "df = gpd.read_parquet(r\".\\data\\kakogawacity_probe_2017.parquet\")\n",
    "df = df[df[\"timestamp\"].dt.date == target_date]\n",
    "\n",
    "print(len(df))\n",
    "df.head(2)"
   ]
  },
  {
   "cell_type": "markdown",
   "id": "55dbf1f0-e9ac-4716-8244-1db67c39ba0f",
   "metadata": {
    "tags": []
   },
   "source": [
    "# トリップの分割処理\n",
    "- 移動体データ分析ライブラリ [MovingPandas](https://github.com/movingpandas/movingpandas) で処理\n",
    "- データ未取得の時間が10分以上 / 10分間同じ場所にいた場合は滞在となる->滞在地点でトリップを分割"
   ]
  },
  {
   "cell_type": "code",
   "execution_count": 6,
   "id": "435f0d7c-010b-46a3-8fc3-b241a6989624",
   "metadata": {
    "tags": []
   },
   "outputs": [
    {
     "data": {
      "text/plain": [
       "TrajectoryCollection with 35 trajectories"
      ]
     },
     "execution_count": 6,
     "metadata": {},
     "output_type": "execute_result"
    }
   ],
   "source": [
    "# 車両IDをIDとしてトリップを作成\n",
    "trajc = mpd.TrajectoryCollection(df, traj_id_col=\"vehicle_id\", t=\"timestamp\")\n",
    "trajc"
   ]
  },
  {
   "cell_type": "code",
   "execution_count": 7,
   "id": "149b7036-d4f3-4dbc-9c2d-c95e63925401",
   "metadata": {},
   "outputs": [
    {
     "data": {
      "text/plain": [
       "TrajectoryCollection with 100 trajectories"
      ]
     },
     "execution_count": 7,
     "metadata": {},
     "output_type": "execute_result"
    }
   ],
   "source": [
    "# データ未取得の時間が10分以上でトリップ分割\n",
    "trajc = mpd.ObservationGapSplitter(trajc).split(gap=timedelta(minutes=10))\n",
    "trajc"
   ]
  },
  {
   "cell_type": "code",
   "execution_count": null,
   "id": "ec8336ea-7dc9-45e1-ad01-3f76bc31a7ee",
   "metadata": {},
   "outputs": [],
   "source": [
    "# 同じ場所に10分間以上滞在したらトリップ分割\n",
    "# TODO：起終点付近の走行履歴が削除されているため条件見直しが必要\n",
    "# trajc = mpd.StopSplitter(trajc).split(\n",
    "#     max_diameter=30, min_duration=timedelta(minutes=10)\n",
    "# )\n",
    "# trajc"
   ]
  },
  {
   "cell_type": "markdown",
   "id": "90183123-9d0a-432f-889f-4ae458baf469",
   "metadata": {},
   "source": [
    "- トリップ分割後の走行軌跡データ：GeoPackage にエクスポート\n",
    "    - GeoPackageはQGIS用のデータファイルとして準備（主題図作成用のデータもまとめて格納するため）"
   ]
  },
  {
   "cell_type": "code",
   "execution_count": 8,
   "id": "39ece126-1c91-43de-af0a-8035f7cd37d3",
   "metadata": {},
   "outputs": [],
   "source": [
    "gpkg_path = r\".\\data\\kakogawacity_probe.gpkg\""
   ]
  },
  {
   "cell_type": "code",
   "execution_count": 9,
   "id": "04c28c28-cd53-4467-b453-f24a3b930640",
   "metadata": {
    "tags": []
   },
   "outputs": [],
   "source": [
    "df = trajc.to_traj_gdf()\n",
    "df[\"traj_id\"] = df[\"vehicle_id\"]\n",
    "df[\"vehicle_id\"] = df[\"vehicle_id\"].str.split(\"_\", expand=True, n=1)[0]\n",
    "\n",
    "df.to_file(gpkg_path, layer=f\"trajc_20170213\")"
   ]
  },
  {
   "cell_type": "markdown",
   "id": "5ddcd701-364a-4bd5-bd2e-10ca3a77bbd9",
   "metadata": {},
   "source": [
    "- leafmapで可視化して確認してみる\n",
    "    - 位置情報の異常で、離れた地点を移動したことになっているトリップが存在すると判明。"
   ]
  },
  {
   "cell_type": "code",
   "execution_count": 10,
   "id": "2c380943-5797-4ea2-be55-a78c9d73ef3f",
   "metadata": {},
   "outputs": [
    {
     "data": {
      "application/vnd.jupyter.widget-view+json": {
       "model_id": "2c326c61b20d4199aa5c57336b4363cc",
       "version_major": 2,
       "version_minor": 0
      },
      "text/plain": [
       "Map(center=[20, 0], controls=(ZoomControl(options=['position', 'zoom_in_text', 'zoom_in_title', 'zoom_out_text…"
      ]
     },
     "execution_count": 10,
     "metadata": {},
     "output_type": "execute_result"
    }
   ],
   "source": [
    "m = leafmap.Map()\n",
    "m.add_gdf(trajc.to_traj_gdf(), layer_name=\"trajc\", center=(35.2042, 134.8739))\n",
    "m"
   ]
  },
  {
   "cell_type": "markdown",
   "id": "6abcefdc-678c-45cd-9b64-b944828216ca",
   "metadata": {},
   "source": [
    "<img src=\".\\image\\trajc.png\" style=\"margin-top: 20px;\">"
   ]
  },
  {
   "cell_type": "markdown",
   "id": "f4c869a2-0e18-4b27-8fa1-09193b846248",
   "metadata": {},
   "source": [
    "# 異常データのクレンジング\n",
    "- 走行履歴の2点間速度を計算して、「1000km/h」を超える速度があるトリップはトリップ単位で除外する。\n",
    "    - 加古川公用車の走行履歴は1秒ごとのデータ。特に問題のない走行履歴であっても、timestampがずれている等の理由で2点間速度が200km/h以上といった値が出ることがある。\n",
    "    - 今回は離れた地点を移動したことになっているトリップだけ除去したいので、1000km/h を閾値とした。"
   ]
  },
  {
   "cell_type": "code",
   "execution_count": 11,
   "id": "112a4803-749f-48b9-834e-b9d7dcdda919",
   "metadata": {
    "tags": []
   },
   "outputs": [],
   "source": [
    "# 2点間速度を計算\n",
    "trajc.add_speed(overwrite=True, name=\"speed\", units=(\"km\", \"h\"))"
   ]
  },
  {
   "cell_type": "code",
   "execution_count": 12,
   "id": "013e965d-fde8-4586-8d12-fb02662fcb65",
   "metadata": {
    "tags": []
   },
   "outputs": [],
   "source": [
    "# 2点間速度の分布を確認\n",
    "max_speeds = [traj.get_max(\"speed\") for traj in trajc]"
   ]
  },
  {
   "cell_type": "code",
   "execution_count": 13,
   "id": "cda6b549-9462-4ae1-9422-e1332ae839a0",
   "metadata": {},
   "outputs": [
    {
     "data": {
      "text/plain": [
       "28022.38969692934"
      ]
     },
     "execution_count": 13,
     "metadata": {},
     "output_type": "execute_result"
    }
   ],
   "source": [
    "max(max_speeds)"
   ]
  },
  {
   "cell_type": "code",
   "execution_count": 14,
   "id": "1216653b-9550-4910-be5d-696bf7772d41",
   "metadata": {
    "tags": []
   },
   "outputs": [
    {
     "data": {
      "image/png": "[encoded data removed]",
      "text/plain": [
       "<Figure size 2000x200 with 1 Axes>"
      ]
     },
     "metadata": {},
     "output_type": "display_data"
    }
   ],
   "source": [
    "sns.set()\n",
    "plt.figure(figsize=(20, 2))\n",
    "g = sns.distplot(max_speeds, bins=range(0, 30000, 200), kde=False)\n",
    "g.set(yscale=\"log\", xlim=(0, 29000), xticks=range(0, 29000, 1000));"
   ]
  },
  {
   "cell_type": "code",
   "execution_count": 15,
   "id": "32fd3445-a58f-494b-aa1d-afba7980d744",
   "metadata": {
    "tags": []
   },
   "outputs": [
    {
     "data": {
      "text/plain": [
       "TrajectoryCollection with 94 trajectories"
      ]
     },
     "execution_count": 15,
     "metadata": {},
     "output_type": "execute_result"
    }
   ],
   "source": [
    "# 2点間速度の最大値が 1000km/h以下のトリップだけを抽出する\n",
    "max_speed = 1000\n",
    "cleaned = mpd.TrajectoryCollection(\n",
    "    [traj for traj in trajc if traj.get_max(\"speed\") <= max_speed]\n",
    ")\n",
    "cleaned"
   ]
  },
  {
   "cell_type": "markdown",
   "id": "dcea2dd8-0bcb-4f77-8b89-486193eb6321",
   "metadata": {},
   "source": [
    "- leafmapでクレンジング後の走行軌跡データを確認\n",
    "    - 位置情報に異常のあるトリップが除去できた。"
   ]
  },
  {
   "cell_type": "code",
   "execution_count": 16,
   "id": "55ff6a8c-653a-43b6-97f4-9f8641a0f6af",
   "metadata": {},
   "outputs": [
    {
     "data": {
      "application/vnd.jupyter.widget-view+json": {
       "model_id": "b473c1176df54259b2355e57ad7523b1",
       "version_major": 2,
       "version_minor": 0
      },
      "text/plain": [
       "Map(center=[20, 0], controls=(ZoomControl(options=['position', 'zoom_in_text', 'zoom_in_title', 'zoom_out_text…"
      ]
     },
     "execution_count": 16,
     "metadata": {},
     "output_type": "execute_result"
    }
   ],
   "source": [
    "m = leafmap.Map()\n",
    "m.add_gdf(cleaned.to_traj_gdf(), layer_name=\"trajc_cleaned\", center=(35.2042, 134.8739))\n",
    "m"
   ]
  },
  {
   "cell_type": "markdown",
   "id": "d43cc571-e96d-4385-a66c-45df04a70ada",
   "metadata": {},
   "source": [
    "<img src=\".\\image\\trajc_cleaned.png\" style=\"margin-top: 20px;\">"
   ]
  },
  {
   "cell_type": "markdown",
   "id": "2a482182-dfd5-47a5-ba38-176310d78d65",
   "metadata": {
    "tags": []
   },
   "source": [
    "# エクスポート"
   ]
  },
  {
   "cell_type": "markdown",
   "id": "f7f4ff5f-a062-4b4e-983b-e2b62ef0ea59",
   "metadata": {
    "tags": []
   },
   "source": [
    "- トリップの走行軌跡データ：GeoPackageにエクスポート"
   ]
  },
  {
   "cell_type": "code",
   "execution_count": 17,
   "id": "9375c9a6-1b94-4a58-ac4f-1fcde41e6ecf",
   "metadata": {
    "tags": []
   },
   "outputs": [],
   "source": [
    "df = cleaned.to_traj_gdf()\n",
    "\n",
    "# TrajectoryIDから車両IDを取り出す\n",
    "df[\"traj_id\"] = df[\"vehicle_id\"]\n",
    "df[\"vehicle_id\"] = df[\"vehicle_id\"].str.split(\"_\", expand=True, n=1)[0]\n",
    "\n",
    "gpkg_path = r\".\\data\\kakogawacity_probe.gpkg\"\n",
    "df.to_file(gpkg_path, layer=\"trajc_cleaned_20170213\")"
   ]
  },
  {
   "cell_type": "markdown",
   "id": "c4247cff-d6a1-478a-8ad3-9ac482034fe3",
   "metadata": {},
   "source": [
    "- 走行履歴データ： GeoParquet にエクスポート"
   ]
  },
  {
   "cell_type": "code",
   "execution_count": 18,
   "id": "5c6a9be3-a8bb-4f43-8ed2-7caf74a5f803",
   "metadata": {
    "tags": []
   },
   "outputs": [],
   "source": [
    "df = cleaned.to_point_gdf().reset_index()\n",
    "\n",
    "df[\"traj_id\"] = df[\"vehicle_id\"]\n",
    "df[\"vehicle_id\"] = df[\"vehicle_id\"].str.split(\"_\", expand=True, n=1)[0]\n",
    "\n",
    "df.to_parquet(\n",
    "    r\".\\data\\kakogawacity_probe_cleaned_20170213.parquet\",\n",
    "    index=False,\n",
    "    compression=\"zstd\",\n",
    ")"
   ]
  },
  {
   "cell_type": "markdown",
   "id": "5aa693ce-3149-48e5-aea9-60e14166141a",
   "metadata": {
    "tags": []
   },
   "source": [
    "# アニメーション作成\n",
    "- [Kepler.gl for Jupyter](https://github.com/keplergl/kepler.gl/blob/master/bindings/kepler.gl-jupyter)\n",
    "- <font color=\"darkorange\">CAUTION：環境によってはバグが発生してしまう。</font>https://github.com/keplergl/kepler.gl/issues/1993\n",
    "- 今回はエラーが発生しない仮想環境に切り替えて実行"
   ]
  },
  {
   "cell_type": "code",
   "execution_count": 2,
   "id": "04cb1379-184d-451b-a9aa-6883cd4fd1a0",
   "metadata": {
    "tags": []
   },
   "outputs": [
    {
     "data": {
      "text/html": [
       "<div>\n",
       "<style scoped>\n",
       "    .dataframe tbody tr th:only-of-type {\n",
       "        vertical-align: middle;\n",
       "    }\n",
       "\n",
       "    .dataframe tbody tr th {\n",
       "        vertical-align: top;\n",
       "    }\n",
       "\n",
       "    .dataframe thead th {\n",
       "        text-align: right;\n",
       "    }\n",
       "</style>\n",
       "<table border=\"1\" class=\"dataframe\">\n",
       "  <thead>\n",
       "    <tr style=\"text-align: right;\">\n",
       "      <th></th>\n",
       "      <th>timestamp</th>\n",
       "      <th>vehicle_id</th>\n",
       "      <th>geometry</th>\n",
       "      <th>speed</th>\n",
       "      <th>traj_id</th>\n",
       "      <th>longitude</th>\n",
       "      <th>latitude</th>\n",
       "      <th>altitude</th>\n",
       "      <th>unix_time</th>\n",
       "    </tr>\n",
       "  </thead>\n",
       "  <tbody>\n",
       "    <tr>\n",
       "      <th>0</th>\n",
       "      <td>2017-02-13 09:54:44</td>\n",
       "      <td>20150400001</td>\n",
       "      <td>POINT (134.81899 34.81670)</td>\n",
       "      <td>31.241816</td>\n",
       "      <td>20150400001_0</td>\n",
       "      <td>134.818985</td>\n",
       "      <td>34.816704</td>\n",
       "      <td>0</td>\n",
       "      <td>1486979684</td>\n",
       "    </tr>\n",
       "    <tr>\n",
       "      <th>1</th>\n",
       "      <td>2017-02-13 09:54:45</td>\n",
       "      <td>20150400001</td>\n",
       "      <td>POINT (134.81896 34.81663)</td>\n",
       "      <td>31.241816</td>\n",
       "      <td>20150400001_0</td>\n",
       "      <td>134.818958</td>\n",
       "      <td>34.816629</td>\n",
       "      <td>0</td>\n",
       "      <td>1486979685</td>\n",
       "    </tr>\n",
       "  </tbody>\n",
       "</table>\n",
       "</div>"
      ],
      "text/plain": [
       "            timestamp   vehicle_id                    geometry      speed  \\\n",
       "0 2017-02-13 09:54:44  20150400001  POINT (134.81899 34.81670)  31.241816   \n",
       "1 2017-02-13 09:54:45  20150400001  POINT (134.81896 34.81663)  31.241816   \n",
       "\n",
       "         traj_id   longitude   latitude  altitude   unix_time  \n",
       "0  20150400001_0  134.818985  34.816704         0  1486979684  \n",
       "1  20150400001_0  134.818958  34.816629         0  1486979685  "
      ]
     },
     "execution_count": 2,
     "metadata": {},
     "output_type": "execute_result"
    }
   ],
   "source": [
    "df = gpd.read_parquet(r\".\\data\\kakogawacity_probe_cleaned_20170213.parquet\")\n",
    "\n",
    "# 緯度・経度・高度・UNIX時間が必要\n",
    "df[\"longitude\"] = df[\"geometry\"].x\n",
    "df[\"latitude\"] = df[\"geometry\"].y\n",
    "df[\"altitude\"] = 0\n",
    "df[\"unix_time\"] = df[\"timestamp\"].astype(np.int64) // 10**9\n",
    "\n",
    "df.head(2)"
   ]
  },
  {
   "cell_type": "markdown",
   "id": "c2c3e88e-9062-495b-97b4-0ac95f5faec9",
   "metadata": {},
   "source": [
    "- GeoJSONに変換"
   ]
  },
  {
   "cell_type": "code",
   "execution_count": 3,
   "id": "f9923c88-663b-4677-a29c-c380925ca218",
   "metadata": {
    "tags": []
   },
   "outputs": [],
   "source": [
    "geo_json = dict(type=\"FeatureCollection\", features=[])\n",
    "\n",
    "for (vehicle_id, traj_id), group in df.groupby([\"vehicle_id\", \"traj_id\"]):\n",
    "    feature = dict(\n",
    "        type=\"Feature\",\n",
    "        geometry=None,\n",
    "        properties=dict(vehicle_id=vehicle_id, traj_id=traj_id),\n",
    "    )\n",
    "    feature[\"geometry\"] = dict(\n",
    "        type=\"LineString\",\n",
    "        coordinates=group[[\"longitude\", \"latitude\", \"altitude\", \"unix_time\"]]\n",
    "        .to_records(index=False)\n",
    "        .tolist(),\n",
    "    )\n",
    "    geo_json[\"features\"].append(feature)\n",
    "\n",
    "with open(\"probe_animation_20170213.geojson\", mode=\"w\") as f:\n",
    "    f.write(str(geo_json))"
   ]
  },
  {
   "cell_type": "markdown",
   "id": "00b6ae80-aee3-4212-9567-1bce495af467",
   "metadata": {
    "tags": []
   },
   "source": [
    "- Map Config"
   ]
  },
  {
   "cell_type": "code",
   "execution_count": 4,
   "id": "ab34dfca-2d98-469f-b4e5-dca5c3f56554",
   "metadata": {
    "tags": []
   },
   "outputs": [],
   "source": [
    "center = df[\"latitude\"].mean(), df[\"longitude\"].mean()\n",
    "\n",
    "config = {\n",
    "    \"version\": \"v1\",\n",
    "    \"config\": {\n",
    "        \"visState\": {\n",
    "            \"filters\": [],\n",
    "            \"layers\": [\n",
    "                {\n",
    "                    \"id\": \"probe-demo\",\n",
    "                    \"type\": \"trip\",\n",
    "                    \"config\": {\n",
    "                        \"dataId\": \"trip_data\",\n",
    "                        \"label\": \"trip_data\",\n",
    "                        \"color\": [218, 0, 0],\n",
    "                        \"highlightColor\": [252, 242, 26, 255],\n",
    "                        \"columns\": {\"geojson\": \"_geojson\"},\n",
    "                        \"isVisible\": True,\n",
    "                        \"visConfig\": {\n",
    "                            \"opacity\": 0.8,\n",
    "                            \"thickness\": 2,\n",
    "                            \"colorRange\": {\n",
    "                                \"name\": \"ColorBrewer Set1-6\",\n",
    "                                \"type\": \"qualitative\",\n",
    "                                \"category\": \"ColorBrewer\",\n",
    "                                \"colors\": [\n",
    "                                    \"#e41a1c\",\n",
    "                                    \"#377eb8\",\n",
    "                                    \"#4daf4a\",\n",
    "                                    \"#984ea3\",\n",
    "                                    \"#ff7f00\",\n",
    "                                    \"#ffff33\",\n",
    "                                ],\n",
    "                            },\n",
    "                            \"trailLength\": 250,\n",
    "                            \"sizeRange\": [0, 10],\n",
    "                        },\n",
    "                        \"hidden\": False,\n",
    "                        \"textLabel\": [\n",
    "                            {\n",
    "                                \"field\": None,\n",
    "                                \"color\": [255, 255, 255],\n",
    "                                \"size\": 18,\n",
    "                                \"offset\": [0, 0],\n",
    "                                \"anchor\": \"start\",\n",
    "                                \"alignment\": \"center\",\n",
    "                            }\n",
    "                        ],\n",
    "                    },\n",
    "                    \"visualChannels\": {\n",
    "                        \"colorField\": {\"name\": \"vehicle_id\", \"type\": \"string\"},\n",
    "                        \"colorScale\": \"quantile\",\n",
    "                        \"sizeField\": None,\n",
    "                        \"sizeScale\": \"linear\",\n",
    "                    },\n",
    "                }\n",
    "            ],\n",
    "            \"interactionConfig\": {\n",
    "                \"tooltip\": {\n",
    "                    \"fieldsToShow\": {\n",
    "                        \"trip_data\": [{\"name\": \"vehicle_id\", \"format\": None}]\n",
    "                    },\n",
    "                    \"compareMode\": False,\n",
    "                    \"compareType\": \"absolute\",\n",
    "                    \"enabled\": True,\n",
    "                },\n",
    "                \"brush\": {\"size\": 0.5, \"enabled\": False},\n",
    "                \"geocoder\": {\"enabled\": False},\n",
    "                \"coordinate\": {\"enabled\": False},\n",
    "            },\n",
    "            \"layerBlending\": \"normal\",\n",
    "            \"splitMaps\": [],\n",
    "            \"animationConfig\": {\"currentTime\": 1616174376576.6997, \"speed\": 0.5},\n",
    "        },\n",
    "        \"mapState\": {\n",
    "            \"bearing\": 0,\n",
    "            \"dragRotate\": False,\n",
    "            \"latitude\": center[0],\n",
    "            \"longitude\": center[1],\n",
    "            \"pitch\": 0,\n",
    "            \"zoom\": 11,\n",
    "            \"isSplit\": False,\n",
    "        },\n",
    "        \"mapStyle\": {\n",
    "            \"styleType\": \"dark\",\n",
    "            \"topLayerGroups\": {},\n",
    "            \"visibleLayerGroups\": {\n",
    "                \"label\": True,\n",
    "                \"road\": True,\n",
    "                \"border\": False,\n",
    "                \"building\": True,\n",
    "                \"water\": True,\n",
    "                \"land\": True,\n",
    "                \"3d building\": False,\n",
    "            },\n",
    "            \"threeDBuildingColor\": [\n",
    "                9.665468314072013,\n",
    "                17.18305478057247,\n",
    "                31.1442867897876,\n",
    "            ],\n",
    "            \"mapStyles\": {},\n",
    "        },\n",
    "    },\n",
    "}"
   ]
  },
  {
   "cell_type": "markdown",
   "id": "501f0e4c-9ce6-4ba2-a796-3852242d50b4",
   "metadata": {},
   "source": [
    "- Display Map"
   ]
  },
  {
   "cell_type": "code",
   "execution_count": 5,
   "id": "e0c06a39-245f-43a2-a233-44c04ecb84a1",
   "metadata": {
    "tags": []
   },
   "outputs": [
    {
     "name": "stdout",
     "output_type": "stream",
     "text": [
      "User Guide: https://docs.kepler.gl/docs/keplergl-jupyter\n"
     ]
    },
    {
     "data": {
      "application/vnd.jupyter.widget-view+json": {
       "model_id": "e8c585169eaf495eb8e647914d16a333",
       "version_major": 2,
       "version_minor": 0
      },
      "text/plain": [
       "KeplerGl(config={'version': 'v1', 'config': {'visState': {'filters': [], 'layers': [{'id': 'probe-demo', 'type…"
      ]
     },
     "metadata": {},
     "output_type": "display_data"
    }
   ],
   "source": [
    "m = KeplerGl(data={\"trip_data\": geo_json}, config=config, height=600)\n",
    "m"
   ]
  },
  {
   "cell_type": "markdown",
   "id": "300681fd-7f2a-48a4-bead-13d33ac78722",
   "metadata": {},
   "source": [
    "<img src=\".\\image\\animation.png\" style=\"margin-top: 20px;\">"
   ]
  },
  {
   "cell_type": "markdown",
   "id": "dc8008a2-ed6e-492f-80d0-545f45e04af9",
   "metadata": {},
   "source": [
    "- Save Map"
   ]
  },
  {
   "cell_type": "code",
   "execution_count": 6,
   "id": "bdb05631-82ee-4713-89ce-0be385771cb3",
   "metadata": {
    "tags": []
   },
   "outputs": [
    {
     "name": "stdout",
     "output_type": "stream",
     "text": [
      "Map saved to probe_animation_20170213.html!\n"
     ]
    }
   ],
   "source": [
    "m.save_to_html(file_name=\"probe_animation_20170213.html\", read_only=True)"
   ]
  },
  {
   "cell_type": "markdown",
   "id": "03a9ee05-df6d-442d-9fff-e9aa8f200bfa",
   "metadata": {},
   "source": [
    "## PowerPoint資料作成の例（QGIS + python-pptx）\n",
    "- QGIS で作成した個車の走行ルートの画像をPowerPoint に一括出力することを想定。\n",
    "- 事前準備をしてから次のセルを実行\n",
    "1. QGIS で車両別の走行軌跡を可視化して、印刷レイアウトを作成する。\n",
    "2. QGIS の Pythonコンソールからエディタを表示して「export_qgis_layout.py」を実行してレイアウトを一括出力<br> [GIS実習オープン教材：QGISでのPython入門](https://gis-oer.github.io/gitbook/book/materials/python/01/01.html)\n",
    "3. テンプレートの PowerPoint を準備"
   ]
  },
  {
   "cell_type": "code",
   "execution_count": 7,
   "id": "89956237-e1df-4eea-9c73-47526c9e71ac",
   "metadata": {
    "tags": []
   },
   "outputs": [
    {
     "name": "stderr",
     "output_type": "stream",
     "text": [
      "35it [00:00, 163.55it/s]\n"
     ]
    }
   ],
   "source": [
    "prs = Presentation(r\".\\pptx\\template.pptx\")\n",
    "\n",
    "base_path = Path(r\".\\pptx\\image\")\n",
    "\n",
    "for png_path in tqdm(base_path.glob(r\"**\\*.png\")):\n",
    "    # 新しいスライドを追加\n",
    "    slide_layout = prs.slide_layouts[1]\n",
    "    slide = prs.slides.add_slide(slide_layout)\n",
    "\n",
    "    # 車両ID（画像のファイル名）をテキストボックスに出力\n",
    "    txBox = slide.shapes.add_textbox(\n",
    "        left=Cm(0.5), top=Cm(2.1), width=Cm(10), height=Cm(1)\n",
    "    )\n",
    "    tf = txBox.text_frame\n",
    "    tf.text = f\"車両ID：{png_path.stem}\"\n",
    "    tf.paragraphs[0].font.size = Pt(18)\n",
    "\n",
    "    # 地図の画像を挿入\n",
    "    slide.shapes.add_picture(str(png_path), left=Cm(0.71), top=Cm(3.07))\n",
    "\n",
    "prs.save(\"probe_pptx_20170213.pptx\")"
   ]
  },
  {
   "cell_type": "code",
   "execution_count": null,
   "id": "0449fa6f-6d69-44f6-9e9c-47c68acaa48f",
   "metadata": {},
   "outputs": [],
   "source": []
  }
 ],
 "metadata": {
  "kernelspec": {
   "display_name": "Python 3 (ipykernel)",
   "language": "python",
   "name": "python3"
  },
  "language_info": {
   "codemirror_mode": {
    "name": "ipython",
    "version": 3
   },
   "file_extension": ".py",
   "mimetype": "text/x-python",
   "name": "python",
   "nbconvert_exporter": "python",
   "pygments_lexer": "ipython3",
   "version": "3.11.5"
  }
 },
 "nbformat": 4,
 "nbformat_minor": 5
}
